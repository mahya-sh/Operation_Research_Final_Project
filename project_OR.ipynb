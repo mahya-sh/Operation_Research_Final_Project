{
  "nbformat": 4,
  "nbformat_minor": 0,
  "metadata": {
    "colab": {
      "provenance": []
    },
    "kernelspec": {
      "name": "python3",
      "display_name": "Python 3"
    },
    "language_info": {
      "name": "python"
    }
  },
  "cells": [
    {
      "cell_type": "markdown",
      "source": [
        "#OR Final Project - Mahya Shahshahani SID:810199598"
      ],
      "metadata": {
        "id": "0qM6i2R4V8Sw"
      }
    },
    {
      "cell_type": "markdown",
      "source": [
        "# Problem 1"
      ],
      "metadata": {
        "id": "s_ACXxnuWjdA"
      }
    },
    {
      "cell_type": "code",
      "execution_count": 52,
      "metadata": {
        "id": "vRktp1R0gDbZ",
        "colab": {
          "base_uri": "https://localhost:8080/"
        },
        "outputId": "974b3518-4c88-4909-fa95-db7831276a11"
      },
      "outputs": [
        {
          "output_type": "stream",
          "name": "stdout",
          "text": [
            "Requirement already satisfied: pyomo in /usr/local/lib/python3.10/dist-packages (6.7.0)\n",
            "Requirement already satisfied: ply in /usr/local/lib/python3.10/dist-packages (from pyomo) (3.11)\n"
          ]
        }
      ],
      "source": [
        "!pip install pyomo\n",
        "from pyomo.environ import *\n",
        "!wget -N -q \"https://matematica.unipv.it/gualandi/solvers/ipopt-linux64.zip\"\n",
        "!unzip -o -q ipopt-linux64\n",
        "!apt-get install -y -qq glpk-utils\n"
      ]
    },
    {
      "cell_type": "code",
      "source": [
        "from pyomo.opt import SolverFactory\n",
        "!apt-get install -y gcc libglpk-dev glpk-utils\n",
        "import heapq"
      ],
      "metadata": {
        "id": "pez2bBjAkJ3i",
        "colab": {
          "base_uri": "https://localhost:8080/"
        },
        "outputId": "a0e2c241-988d-4a19-d084-6df2018948df"
      },
      "execution_count": 53,
      "outputs": [
        {
          "output_type": "stream",
          "name": "stdout",
          "text": [
            "Reading package lists... Done\n",
            "Building dependency tree... Done\n",
            "Reading state information... Done\n",
            "gcc is already the newest version (4:11.2.0-1ubuntu1).\n",
            "glpk-utils is already the newest version (5.0-1).\n",
            "libglpk-dev is already the newest version (5.0-1).\n",
            "0 upgraded, 0 newly installed, 0 to remove and 24 not upgraded.\n"
          ]
        }
      ]
    },
    {
      "cell_type": "code",
      "source": [
        "!apt install glpk-utils\n",
        "!pip install glpk\n"
      ],
      "metadata": {
        "colab": {
          "base_uri": "https://localhost:8080/"
        },
        "id": "Y9JiJJ6joxMs",
        "outputId": "fd6e7164-1576-44ec-c337-2431003723a9"
      },
      "execution_count": 54,
      "outputs": [
        {
          "output_type": "stream",
          "name": "stdout",
          "text": [
            "Reading package lists... Done\n",
            "Building dependency tree... Done\n",
            "Reading state information... Done\n",
            "glpk-utils is already the newest version (5.0-1).\n",
            "0 upgraded, 0 newly installed, 0 to remove and 24 not upgraded.\n",
            "Requirement already satisfied: glpk in /usr/local/lib/python3.10/dist-packages (0.4.7)\n"
          ]
        }
      ]
    },
    {
      "cell_type": "code",
      "source": [
        "import pyomo.environ as pyo\n",
        "from pyomo.environ import *\n",
        "!pip install glpk\n",
        "from pyomo.opt import SolverFactory\n",
        "\n",
        "\n",
        "model = pyo.ConcreteModel()\n",
        "\n",
        "model.x = pyo.Var([1, 2, 3, 4, 5, 6], [1, 2], domain=NonNegativeReals)\n",
        "\n",
        "model.S = Param([1, 2], initialize={1: 550, 2: 700})\n",
        "model.D = Param([1, 2, 3, 4, 5, 6], initialize={1: 125, 2: 175, 3: 225, 4: 250, 5: 225, 6: 200})\n",
        "model.T = Param([1, 2, 3, 4, 5, 6], [1, 2], initialize={\n",
        "    (1, 1): 9999, (1, 2): 2.5,\n",
        "    (2, 1): 2.5, (2, 2): 9999,\n",
        "    (3, 1): 1.6, (3, 2): 2.0,\n",
        "    (4, 1): 1.4, (4, 2): 1.0,\n",
        "    (5, 1): 0.8, (5, 2): 1.0,\n",
        "    (6, 1): 1.4, (6, 2): 0.8\n",
        "})\n",
        "\n",
        "model.objective = Objective(\n",
        "    expr=sum(model.T[c, s] * model.x[c, s] for c in [1, 2, 3, 4, 5, 6] for s in [1, 2]),\n",
        "    sense=minimize\n",
        ")\n",
        "\n",
        "\n",
        "model.supply_constraints = ConstraintList()\n",
        "for s in [1, 2]:\n",
        "    model.supply_constraints.add(\n",
        "        sum(model.x[c, s] for c in [1, 2, 3, 4, 5, 6]) <= model.S[s]\n",
        "    )\n",
        "\n",
        "model.demand_constraints = ConstraintList()\n",
        "for c in [1, 2, 3, 4, 5, 6]:\n",
        "    model.demand_constraints.add(\n",
        "        sum(model.x[c, s] for s in [1, 2]) == model.D[c]\n",
        "    )\n",
        "\n",
        "solver = SolverFactory('glpk')\n",
        "solver.solve(model)\n",
        "\n",
        "for c in [1, 2, 3, 4, 5, 6]:\n",
        "    for s in [1, 2]:\n",
        "        print(f\"City {c} from Supply {s}: {model.x[c, s].value}\")"
      ],
      "metadata": {
        "colab": {
          "base_uri": "https://localhost:8080/"
        },
        "id": "BswF2CNHWh57",
        "outputId": "978c20b2-560d-4a84-93ca-d9778e69fdeb"
      },
      "execution_count": 55,
      "outputs": [
        {
          "output_type": "stream",
          "name": "stdout",
          "text": [
            "Requirement already satisfied: glpk in /usr/local/lib/python3.10/dist-packages (0.4.7)\n",
            "City 1 from Supply 1: 0.0\n",
            "City 1 from Supply 2: 125.0\n",
            "City 2 from Supply 1: 175.0\n",
            "City 2 from Supply 2: 0.0\n",
            "City 3 from Supply 1: 225.0\n",
            "City 3 from Supply 2: 0.0\n",
            "City 4 from Supply 1: 0.0\n",
            "City 4 from Supply 2: 250.0\n",
            "City 5 from Supply 1: 150.0\n",
            "City 5 from Supply 2: 75.0\n",
            "City 6 from Supply 1: 0.0\n",
            "City 6 from Supply 2: 200.0\n"
          ]
        }
      ]
    },
    {
      "cell_type": "code",
      "source": [
        "import pyomo.environ as pyo\n",
        "from pyomo.environ import *\n",
        "!pip install glpk\n",
        "from pyomo.opt import SolverFactory\n",
        "\n",
        "\n",
        "model = pyo.ConcreteModel()\n",
        "\n",
        "\n",
        "model.x = pyo.Var([1, 2, 3, 4, 5, 6], [1, 2], domain=NonNegativeReals)\n",
        "\n",
        "model.S = Param([1, 2], initialize={1: 600, 2: 650})\n",
        "model.D = Param([1, 2, 3, 4, 5, 6], initialize={1: 125, 2: 175, 3: 225, 4: 250, 5: 225, 6: 200})\n",
        "model.T = Param([1, 2, 3, 4, 5, 6], [1, 2], initialize={\n",
        "    (1, 1): 9999, (1, 2): 2.5,\n",
        "    (2, 1): 2.5, (2, 2): 9999,\n",
        "    (3, 1): 1.6, (3, 2): 2.0,\n",
        "    (4, 1): 1.4, (4, 2): 1.0,\n",
        "    (5, 1): 0.8, (5, 2): 1.0,\n",
        "    (6, 1): 1.4, (6, 2): 0.8\n",
        "})\n",
        "\n",
        "\n",
        "model.objective = Objective(\n",
        "    expr=sum(model.T[c, s] * model.x[c, s] for c in [1, 2, 3, 4, 5, 6] for s in [1, 2]),\n",
        "    sense=minimize\n",
        ")\n",
        "\n",
        "\n",
        "model.supply_constraints = ConstraintList()\n",
        "for s in [1, 2]:\n",
        "    model.supply_constraints.add(\n",
        "        sum(model.x[c, s] for c in [1, 2, 3, 4, 5, 6]) <= model.S[s]\n",
        "    )\n",
        "\n",
        "model.demand_constraints = ConstraintList()\n",
        "for c in [1, 2, 3, 4, 5, 6]:\n",
        "    model.demand_constraints.add(\n",
        "        sum(model.x[c, s] for s in [1, 2]) == model.D[c]\n",
        "    )\n",
        "\n",
        "\n",
        "solver = SolverFactory('glpk')\n",
        "solver.solve(model)\n",
        "\n",
        "for c in [1, 2, 3, 4, 5, 6]:\n",
        "    for s in [1, 2]:\n",
        "        print(f\"City {c} from Supply {s}: {model.x[c, s].value}\")"
      ],
      "metadata": {
        "colab": {
          "base_uri": "https://localhost:8080/"
        },
        "id": "ZdLrgOuBjHID",
        "outputId": "67c95687-03ee-4c8c-b50c-c8e78c099366"
      },
      "execution_count": 56,
      "outputs": [
        {
          "output_type": "stream",
          "name": "stdout",
          "text": [
            "Requirement already satisfied: glpk in /usr/local/lib/python3.10/dist-packages (0.4.7)\n",
            "City 1 from Supply 1: 0.0\n",
            "City 1 from Supply 2: 125.0\n",
            "City 2 from Supply 1: 175.0\n",
            "City 2 from Supply 2: 0.0\n",
            "City 3 from Supply 1: 225.0\n",
            "City 3 from Supply 2: 0.0\n",
            "City 4 from Supply 1: 0.0\n",
            "City 4 from Supply 2: 250.0\n",
            "City 5 from Supply 1: 200.0\n",
            "City 5 from Supply 2: 25.0\n",
            "City 6 from Supply 1: 0.0\n",
            "City 6 from Supply 2: 200.0\n"
          ]
        }
      ]
    },
    {
      "cell_type": "markdown",
      "source": [
        "#Problem 2\n"
      ],
      "metadata": {
        "id": "MuIqs6R8rfKT"
      }
    },
    {
      "cell_type": "code",
      "source": [
        "import numpy as np\n",
        "\n",
        "def objective(x, Q, q, p):\n",
        "    return 0.5 * x.T.dot(Q).dot(x) - q.T.dot(x) + p\n",
        "\n",
        "def gradient(x, Q, q):\n",
        "    return Q.dot(x) - q\n",
        "\n",
        "def gradient_descent(Q, q, p, x0, learning_rate=0.1, epsilon=1e-6, max_iterations=1000):\n",
        "    x = x0.astype(np.float64)\n",
        "    for i in range(max_iterations):\n",
        "        grad = gradient(x, Q, q)\n",
        "        step_size = learning_rate / np.sqrt(i + 1)  # Optimized step size\n",
        "        x = x - (step_size * grad).astype(np.float64)\n",
        "        if np.linalg.norm(grad) < epsilon:\n",
        "            break\n",
        "    return x.astype(np.int64)\n",
        "Q = np.array([[48, 12], [8, 8]])\n",
        "q = np.array([[13], [23]])\n",
        "p = 4\n",
        "x0 = np.array([[23], [37]])\n",
        "\n",
        "optimized_x = gradient_descent(Q, q, p, x0)\n",
        "print(\"Optimized x:\")\n",
        "print(optimized_x)"
      ],
      "metadata": {
        "id": "gCvJFh15redt",
        "colab": {
          "base_uri": "https://localhost:8080/"
        },
        "outputId": "dcbd45e7-4e93-425a-9177-028e9fe0b485"
      },
      "execution_count": 57,
      "outputs": [
        {
          "output_type": "stream",
          "name": "stdout",
          "text": [
            "Optimized x:\n",
            "[[0]\n",
            " [3]]\n"
          ]
        }
      ]
    },
    {
      "cell_type": "code",
      "source": [
        "import numpy as np\n",
        "\n",
        "def objective(x, Q, q, p):\n",
        "    return 0.5 * x.T.dot(Q).dot(x) - q.T.dot(x) + p\n",
        "\n",
        "def gradient(x, Q, q):\n",
        "    return Q.dot(x) - q\n",
        "\n",
        "def gradient_descent(Q, q, p, x0, learning_rate, epsilon=1e-6, max_iterations=1000):\n",
        "    x = x0.astype(np.float64)\n",
        "    for i in range(max_iterations):\n",
        "        grad = gradient(x, Q, q)\n",
        "        x = x - learning_rate * grad\n",
        "        if np.linalg.norm(grad) < epsilon:\n",
        "            break\n",
        "    return x.astype(np.int64)\n",
        "\n",
        "Q = np.array([[48, 12], [8, 8]])\n",
        "q = np.array([[13], [23]])\n",
        "p = 4\n",
        "x0 = np.array([[23], [37]])\n",
        "\n",
        "optimized_x_0001 = gradient_descent(Q, q, p, x0, 0.0001)\n",
        "print(\"Optimized x learning rate = 0.0001:\")\n",
        "print(optimized_x_0001)\n",
        "\n",
        "optimized_x_001 = gradient_descent(Q, q, p, x0, 0.01)\n",
        "print(\"Optimized x learning rate = 0.01:\")\n",
        "print(optimized_x_001)\n",
        "\n",
        "optimized_x_003 = gradient_descent(Q, q, p, x0, 0.03)\n",
        "print(\"Optimized x learning rate = 0.03:\")\n",
        "print(optimized_x_003)\n",
        "\n",
        "optimized_x_004 = gradient_descent(Q, q, p, x0, 0.04)\n",
        "print(\"Optimized x learning rate = 0.04:\")\n",
        "print(optimized_x_004)\n",
        "\n",
        "optimized_x_005 = gradient_descent(Q, q, p, x0, 0.05)\n",
        "print(\"Optimized x learning rate = 0.05:\")\n",
        "print(optimized_x_005)\n"
      ],
      "metadata": {
        "colab": {
          "base_uri": "https://localhost:8080/"
        },
        "id": "ycs9wwoKI1vR",
        "outputId": "098f6443-b4c0-4762-b431-88486043623e"
      },
      "execution_count": 58,
      "outputs": [
        {
          "output_type": "stream",
          "name": "stdout",
          "text": [
            "Optimized x learning rate = 0.0001:\n",
            "[[-4]\n",
            " [19]]\n",
            "Optimized x learning rate = 0.01:\n",
            "[[0]\n",
            " [3]]\n",
            "Optimized x learning rate = 0.03:\n",
            "[[0]\n",
            " [3]]\n",
            "Optimized x learning rate = 0.04:\n",
            "[[1516021]\n",
            " [ 286917]]\n",
            "Optimized x learning rate = 0.05:\n",
            "[[-9223372036854775808]\n",
            " [-9223372036854775808]]\n"
          ]
        }
      ]
    },
    {
      "cell_type": "markdown",
      "source": [
        "##Problem 3"
      ],
      "metadata": {
        "id": "b94ZceNnkLbh"
      }
    },
    {
      "cell_type": "code",
      "source": [
        "def optimal_path(graph, start, destination, epsilon = 0.5):\n",
        "\n",
        "    distances = {node: float('inf') for node in graph}\n",
        "    distances[start] = 0\n",
        "    visited = {}\n",
        "\n",
        "\n",
        "    pq = [(0, start)]\n",
        "\n",
        "    while pq:\n",
        "        current_dist, current_node = heapq.heappop(pq)\n",
        "\n",
        "        # Skip the visited nodes\n",
        "        if current_node in visited:\n",
        "            continue\n",
        "\n",
        "        visited[current_node] = True\n",
        "\n",
        "        # Check if the destination node is reached\n",
        "        if current_node == destination:\n",
        "            break\n",
        "\n",
        "        # Update distances to neighbors\n",
        "        for neighbor, edge_data in graph[current_node].items():\n",
        "            new_dist = current_dist + edge_data['cost']\n",
        "            if new_dist < distances[neighbor]:\n",
        "                distances[neighbor] = new_dist\n",
        "                heapq.heappush(pq, (new_dist, neighbor))\n",
        "\n",
        "    path = []\n",
        "    current = destination\n",
        "    while current != start:\n",
        "        path.append(current)\n",
        "        current = min(graph[current], key=lambda x: distances[x] + epsilon * graph[current][x]['cost'])\n",
        "    path.append(start)\n",
        "    path.reverse()\n",
        "\n",
        "    return path, distances[destination]\n",
        "\n",
        "graph = {\n",
        "    '0': {'1': {'cost': 8.28}, '2': {'cost': 1.28}, '6': {'cost': 4.48}},\n",
        "    '1': {'0': {'cost': 3.64}, '5': {'cost': 7.52}, '7': {'cost': 7.56}},\n",
        "    '2': {'0': {'cost': 0.66}},\n",
        "    '3': {'9': {'cost': 10}},\n",
        "    '4': {'5': {'cost': 19.38}, '8': {'cost': 44}, '9': {'cost': 42}},\n",
        "    '5': {'1': {'cost': 11.38}, '4': {'cost': 24.96}, '7': {'cost': 10.44}},\n",
        "    '6': {'0': {'cost': 1.6}, '7': {'cost': 11.4}},\n",
        "    '7': {'1': {'cost': 9.12}, '5': {'cost': 9.12}, '6': {'cost': 8.4}},\n",
        "    '8': {'4': {'cost': 37.6}, '9': {'cost': 29.58}},\n",
        "    '9': {'3': {'cost': 4.32}, '4': {'cost': 36.12}, '8': {'cost': 28.6}},\n",
        "}\n",
        "\n",
        "locations = {\n",
        "    '0': (35.702, 51.396),\n",
        "    '1': (35.721, 51.388),\n",
        "    '2': (35.701, 51.39),\n",
        "    '3': (35.784, 51.398),\n",
        "    '4': (35.753, 51.426),\n",
        "    '5': (35.742, 51.399),\n",
        "    '6': (35.703, 51.41),\n",
        "    '7': (35.728, 51.417),\n",
        "    '8': (35.79, 51.457),\n",
        "    '9': (35.777, 51.41),\n",
        "}\n",
        "\n",
        "#Input\n",
        "start_point = '0'\n",
        "destination_point = '3'\n",
        "\n",
        "best_path, minimal_cost = optimal_path(graph, start_point, destination_point)\n",
        "\n",
        "# Desired Output\n",
        "print(\"start point:\", start_point, locations[start_point])\n",
        "print(\"destination point:\", destination_point,locations[destination_point])\n",
        "print(\"Optimal Path:\", best_path)\n",
        "print(\"Minimal Cost:\", minimal_cost)\n"
      ],
      "metadata": {
        "colab": {
          "base_uri": "https://localhost:8080/"
        },
        "id": "l4pNYiixCW_Z",
        "outputId": "8158bafb-dc23-4079-b239-6cda9b940234"
      },
      "execution_count": 59,
      "outputs": [
        {
          "output_type": "stream",
          "name": "stdout",
          "text": [
            "start point: 0 (35.702, 51.396)\n",
            "destination point: 3 (35.784, 51.398)\n",
            "Optimal Path: ['0', '1', '5', '4', '9', '3']\n",
            "Minimal Cost: 87.07999999999998\n"
          ]
        }
      ]
    },
    {
      "cell_type": "code",
      "source": [],
      "metadata": {
        "id": "KN8MIdCF6DbI"
      },
      "execution_count": 59,
      "outputs": []
    }
  ]
}